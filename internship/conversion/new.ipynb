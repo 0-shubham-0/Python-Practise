{
 "cells": [
  {
   "cell_type": "code",
   "execution_count": 30,
   "metadata": {},
   "outputs": [
    {
     "data": {
      "text/html": [
       "<div>\n",
       "<style scoped>\n",
       "    .dataframe tbody tr th:only-of-type {\n",
       "        vertical-align: middle;\n",
       "    }\n",
       "\n",
       "    .dataframe tbody tr th {\n",
       "        vertical-align: top;\n",
       "    }\n",
       "\n",
       "    .dataframe thead th {\n",
       "        text-align: right;\n",
       "    }\n",
       "</style>\n",
       "<table border=\"1\" class=\"dataframe\">\n",
       "  <thead>\n",
       "    <tr style=\"text-align: right;\">\n",
       "      <th></th>\n",
       "      <th>word_x1</th>\n",
       "      <th>word_y1</th>\n",
       "      <th>word_x2</th>\n",
       "      <th>word_y2</th>\n",
       "      <th>word</th>\n",
       "    </tr>\n",
       "  </thead>\n",
       "  <tbody>\n",
       "    <tr>\n",
       "      <th>0</th>\n",
       "      <td>1341</td>\n",
       "      <td>169</td>\n",
       "      <td>1361</td>\n",
       "      <td>201</td>\n",
       "      <td>Il</td>\n",
       "    </tr>\n",
       "    <tr>\n",
       "      <th>1</th>\n",
       "      <td>1379</td>\n",
       "      <td>169</td>\n",
       "      <td>1535</td>\n",
       "      <td>201</td>\n",
       "      <td>SHREE</td>\n",
       "    </tr>\n",
       "    <tr>\n",
       "      <th>2</th>\n",
       "      <td>1551</td>\n",
       "      <td>169</td>\n",
       "      <td>1844</td>\n",
       "      <td>201</td>\n",
       "      <td>GANESHAYA</td>\n",
       "    </tr>\n",
       "    <tr>\n",
       "      <th>3</th>\n",
       "      <td>1862</td>\n",
       "      <td>169</td>\n",
       "      <td>2028</td>\n",
       "      <td>201</td>\n",
       "      <td>NAMAH</td>\n",
       "    </tr>\n",
       "    <tr>\n",
       "      <th>4</th>\n",
       "      <td>2047</td>\n",
       "      <td>169</td>\n",
       "      <td>2067</td>\n",
       "      <td>201</td>\n",
       "      <td>II</td>\n",
       "    </tr>\n",
       "  </tbody>\n",
       "</table>\n",
       "</div>"
      ],
      "text/plain": [
       "   word_x1  word_y1  word_x2  word_y2       word\n",
       "0     1341      169     1361      201         Il\n",
       "1     1379      169     1535      201      SHREE\n",
       "2     1551      169     1844      201  GANESHAYA\n",
       "3     1862      169     2028      201      NAMAH\n",
       "4     2047      169     2067      201         II"
      ]
     },
     "execution_count": 30,
     "metadata": {},
     "output_type": "execute_result"
    }
   ],
   "source": [
    "import pandas as pd\n",
    "df=pd.read_csv(\"line_details.csv\")\n",
    "# delete the second and third column\n",
    "df.drop(df.columns[[5,6,7,8,9,10,11,12]], axis=1, inplace=True)\n"
   ]
  },
  {
   "cell_type": "code",
   "execution_count": 31,
   "metadata": {},
   "outputs": [],
   "source": [
    "ids=10\n",
    "template = {\n",
    "    \"id\": 0,\n",
    "    \"text\": [],\n",
    "    \"box\": []\n",
    "  }"
   ]
  },
  {
   "cell_type": "code",
   "execution_count": 36,
   "metadata": {},
   "outputs": [],
   "source": [
    "output={\n",
    "    \"form\": []\n",
    "}"
   ]
  },
  {
   "cell_type": "code",
   "execution_count": 38,
   "metadata": {},
   "outputs": [
    {
     "data": {
      "text/plain": [
       "[{'id': '10',\n",
       "  'text': 'Il',\n",
       "  'box': [1341, 169, 1562],\n",
       "  'linking': [[]],\n",
       "  'words': []},\n",
       " {'id': '11',\n",
       "  'text': 'SHREE',\n",
       "  'box': [1379, 169, 1736],\n",
       "  'linking': [[]],\n",
       "  'words': []},\n",
       " {'id': '12',\n",
       "  'text': 'GANESHAYA',\n",
       "  'box': [1551, 169, 2045],\n",
       "  'linking': [[]],\n",
       "  'words': []},\n",
       " {'id': '13',\n",
       "  'text': 'NAMAH',\n",
       "  'box': [1862, 169, 2229],\n",
       "  'linking': [[]],\n",
       "  'words': []},\n",
       " {'id': '14',\n",
       "  'text': 'II',\n",
       "  'box': [2047, 169, 2268],\n",
       "  'linking': [[]],\n",
       "  'words': []},\n",
       " {'id': '15',\n",
       "  'text': 'TAX',\n",
       "  'box': [1608, 261, 2008],\n",
       "  'linking': [[]],\n",
       "  'words': []},\n",
       " {'id': '16',\n",
       "  'text': 'INVOICE',\n",
       "  'box': [1729, 261, 2236],\n",
       "  'linking': [[]],\n",
       "  'words': []},\n",
       " {'id': '17',\n",
       "  'text': 'Mob:8898933669',\n",
       "  'box': [3003, 268, 3669],\n",
       "  'linking': [[]],\n",
       "  'words': []},\n",
       " {'id': '18',\n",
       "  'text': 'i',\n",
       "  'box': [1417, 367, 1840],\n",
       "  'linking': [[]],\n",
       "  'words': []},\n",
       " {'id': '19',\n",
       "  'text': '-',\n",
       "  'box': [2250, 367, 2674],\n",
       "  'linking': [[]],\n",
       "  'words': []}]"
      ]
     },
     "execution_count": 38,
     "metadata": {},
     "output_type": "execute_result"
    }
   ],
   "source": [
    "# iterate over the dataframe\n",
    "for index, row in df.iterrows():\n",
    "    # create a new label\n",
    "    label=template.copy()\n",
    "    # set the label id\n",
    "    label['id']=str(ids)\n",
    "    # set the label text\n",
    "    label['text']=row['word']\n",
    "    # set the label box\n",
    "    label['box']=[row['word_x1'],row['word_y1'],row['word_x2']+row['word_y2']]\n",
    "    # add the label to the output\n",
    "    output['form'].append(label)\n",
    "    # increment the label id\n",
    "    ids+=1\n",
    "output['form'][:10]"
   ]
  },
  {
   "cell_type": "code",
   "execution_count": null,
   "metadata": {},
   "outputs": [],
   "source": []
  }
 ],
 "metadata": {
  "kernelspec": {
   "display_name": "Python 3",
   "language": "python",
   "name": "python3"
  },
  "language_info": {
   "name": "python",
   "version": "3.10.8"
  },
  "orig_nbformat": 4
 },
 "nbformat": 4,
 "nbformat_minor": 2
}
