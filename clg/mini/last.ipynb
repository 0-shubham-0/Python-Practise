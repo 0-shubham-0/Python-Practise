{
 "cells": [
  {
   "cell_type": "code",
   "execution_count": 1,
   "metadata": {},
   "outputs": [],
   "source": [
    "import pandas as pd\n",
    "import numpy as np\n",
    "import matplotlib.pyplot as plt\n",
    "from sklearn.preprocessing import MinMaxScaler\n",
    "from keras.models import Sequential\n",
    "from keras.layers import LSTM, Dense"
   ]
  },
  {
   "cell_type": "code",
   "execution_count": 2,
   "metadata": {},
   "outputs": [],
   "source": [
    "# Load dataset\n",
    "data = pd.read_csv('kurla_cleaned.csv', parse_dates=['date'], index_col='date')"
   ]
  },
  {
   "cell_type": "code",
   "execution_count": 3,
   "metadata": {},
   "outputs": [],
   "source": [
    "# Select columns for prediction\n",
    "cols = ['PM2.5', 'PM10', 'NO', 'NO2', 'SO2', 'CO']\n",
    "data = data[cols].copy()\n"
   ]
  },
  {
   "cell_type": "code",
   "execution_count": 4,
   "metadata": {},
   "outputs": [],
   "source": [
    "# Normalize data\n",
    "scaler = MinMaxScaler()\n",
    "data_scaled = scaler.fit_transform(data)"
   ]
  },
  {
   "cell_type": "code",
   "execution_count": 5,
   "metadata": {},
   "outputs": [],
   "source": [
    "# Create input-output pairs for LSTM model\n",
    "look_back = 24\n",
    "X, y = [], []\n",
    "for i in range(len(data_scaled) - look_back):\n",
    "    X.append(data_scaled[i:i+look_back, :])\n",
    "    y.append(data_scaled[i+look_back, 0])\n",
    "X, y = np.array(X), np.array(y)"
   ]
  },
  {
   "cell_type": "code",
   "execution_count": 6,
   "metadata": {},
   "outputs": [],
   "source": [
    "# Split data into training and test sets\n",
    "train_size = int(len(X) * 0.9)\n",
    "X_train, y_train = X[:train_size], y[:train_size]\n",
    "X_test, y_test = X[train_size:], y[train_size:]"
   ]
  },
  {
   "cell_type": "code",
   "execution_count": 7,
   "metadata": {},
   "outputs": [],
   "source": [
    "# Reshape input to be [samples, time steps, features]\n",
    "X_train = np.reshape(X_train, (X_train.shape[0], X_train.shape[1], X_train.shape[2]))\n",
    "X_test = np.reshape(X_test, (X_test.shape[0], X_test.shape[1], X_test.shape[2]))"
   ]
  },
  {
   "cell_type": "code",
   "execution_count": 8,
   "metadata": {},
   "outputs": [],
   "source": [
    "# Define LSTM model\n",
    "model = Sequential()\n",
    "model.add(LSTM(50, input_shape=(X_train.shape[1], X_train.shape[2])))\n",
    "model.add(Dense(1))\n",
    "model.compile(loss='mse', optimizer='adam')"
   ]
  },
  {
   "cell_type": "code",
   "execution_count": 16,
   "metadata": {},
   "outputs": [
    {
     "name": "stdout",
     "output_type": "stream",
     "text": [
      "2.12.0\n"
     ]
    }
   ],
   "source": [
    "import keras\n",
    "print(keras.__version__)"
   ]
  },
  {
   "cell_type": "code",
   "execution_count": 9,
   "metadata": {},
   "outputs": [
    {
     "name": "stdout",
     "output_type": "stream",
     "text": [
      "Epoch 1/10\n",
      "494/494 - 6s - loss: 0.0037 - val_loss: 2.4108e-04 - 6s/epoch - 12ms/step\n",
      "Epoch 2/10\n",
      "494/494 - 4s - loss: 4.8482e-05 - val_loss: 1.6102e-04 - 4s/epoch - 7ms/step\n",
      "Epoch 3/10\n",
      "494/494 - 3s - loss: 2.8638e-05 - val_loss: 7.2552e-05 - 3s/epoch - 7ms/step\n",
      "Epoch 4/10\n",
      "494/494 - 4s - loss: 2.3597e-05 - val_loss: 8.1477e-05 - 4s/epoch - 7ms/step\n",
      "Epoch 5/10\n",
      "494/494 - 4s - loss: 1.8919e-05 - val_loss: 2.3365e-04 - 4s/epoch - 8ms/step\n",
      "Epoch 6/10\n",
      "494/494 - 4s - loss: 1.6865e-05 - val_loss: 1.7458e-04 - 4s/epoch - 8ms/step\n",
      "Epoch 7/10\n",
      "494/494 - 4s - loss: 1.6789e-05 - val_loss: 2.1036e-04 - 4s/epoch - 8ms/step\n",
      "Epoch 8/10\n",
      "494/494 - 4s - loss: 1.1486e-05 - val_loss: 2.9069e-05 - 4s/epoch - 8ms/step\n",
      "Epoch 9/10\n",
      "494/494 - 4s - loss: 1.7559e-05 - val_loss: 3.6132e-04 - 4s/epoch - 8ms/step\n",
      "Epoch 10/10\n",
      "494/494 - 4s - loss: 1.2525e-05 - val_loss: 6.2647e-05 - 4s/epoch - 8ms/step\n"
     ]
    }
   ],
   "source": [
    "# Train LSTM model\n",
    "history = model.fit(X_train, y_train, epochs=10, batch_size=32, validation_data=(X_test, y_test), verbose=2)\n"
   ]
  },
  {
   "cell_type": "code",
   "execution_count": 12,
   "metadata": {},
   "outputs": [
    {
     "data": {
      "image/png": "[encoded data removed]",
      "text/plain": [
       "<Figure size 640x480 with 1 Axes>"
      ]
     },
     "metadata": {},
     "output_type": "display_data"
    }
   ],
   "source": [
    "plt.plot(history.history['loss'], label='Train Loss')\n",
    "plt.plot(history.history['val_loss'], label='Test Loss')\n",
    "plt.xlabel('Epochs')\n",
    "plt.ylabel('Loss')\n",
    "plt.legend()\n",
    "plt.show()"
   ]
  },
  {
   "cell_type": "code",
   "execution_count": 14,
   "metadata": {},
   "outputs": [
    {
     "ename": "IndexError",
     "evalue": "too many indices for array: array is 2-dimensional, but 3 were indexed",
     "output_type": "error",
     "traceback": [
      "\u001b[1;31m---------------------------------------------------------------------------\u001b[0m",
      "\u001b[1;31mIndexError\u001b[0m                                Traceback (most recent call last)",
      "Cell \u001b[1;32mIn[14], line 2\u001b[0m\n\u001b[0;32m      1\u001b[0m prediction_dates \u001b[39m=\u001b[39m pd\u001b[39m.\u001b[39mdate_range(start\u001b[39m=\u001b[39m\u001b[39m'\u001b[39m\u001b[39m2023-03-01\u001b[39m\u001b[39m'\u001b[39m, end\u001b[39m=\u001b[39m\u001b[39m'\u001b[39m\u001b[39m2023-03-31\u001b[39m\u001b[39m'\u001b[39m, freq\u001b[39m=\u001b[39m\u001b[39m'\u001b[39m\u001b[39mH\u001b[39m\u001b[39m'\u001b[39m)\n\u001b[1;32m----> 2\u001b[0m X_pred \u001b[39m=\u001b[39m data_scaled[\u001b[39m-\u001b[39;49mlook_back:, :, :]\n\u001b[0;32m      3\u001b[0m X_pred \u001b[39m=\u001b[39m np\u001b[39m.\u001b[39mreshape(X_pred, (\u001b[39m1\u001b[39m, look_back, X_pred\u001b[39m.\u001b[39mshape[\u001b[39m1\u001b[39m]))\n\u001b[0;32m      4\u001b[0m pollutant_pred \u001b[39m=\u001b[39m []\n",
      "\u001b[1;31mIndexError\u001b[0m: too many indices for array: array is 2-dimensional, but 3 were indexed"
     ]
    }
   ],
   "source": [
    "prediction_dates = pd.date_range(start='2023-03-01', end='2023-03-31', freq='H')\n",
    "X_pred = data_scaled[-look_back:, :, :]\n",
    "X_pred = np.reshape(X_pred, (1, look_back, X_pred.shape[1]))\n",
    "pollutant_pred = []\n",
    "for i in range(len(prediction_dates)):\n",
    "    pred = model.predict(X_pred)\n",
    "    pollutant_pred.append(pred[0, 0])\n",
    "    X_pred = np.append(X_pred[:, 1:, :], np.expand_dims(pred, axis=1), axis=1)"
   ]
  },
  {
   "cell_type": "code",
   "execution_count": null,
   "metadata": {},
   "outputs": [],
   "source": []
  }
 ],
 "metadata": {
  "kernelspec": {
   "display_name": "Python 3",
   "language": "python",
   "name": "python3"
  },
  "language_info": {
   "codemirror_mode": {
    "name": "ipython",
    "version": 3
   },
   "file_extension": ".py",
   "mimetype": "text/x-python",
   "name": "python",
   "nbconvert_exporter": "python",
   "pygments_lexer": "ipython3",
   "version": "3.10.8"
  },
  "orig_nbformat": 4
 },
 "nbformat": 4,
 "nbformat_minor": 2
}
